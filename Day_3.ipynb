{
 "cells": [
  {
   "cell_type": "code",
   "execution_count": 1,
   "id": "bef0f75a",
   "metadata": {},
   "outputs": [
    {
     "name": "stdout",
     "output_type": "stream",
     "text": [
      "Hello World\n"
     ]
    }
   ],
   "source": [
    "print(\"Hello World\")"
   ]
  },
  {
   "cell_type": "code",
   "execution_count": 1,
   "id": "78d3b3e1",
   "metadata": {},
   "outputs": [],
   "source": [
    "import numpy as np\n",
    "import matplotlib.pyplot as plt\n",
    "\n",
    "# You shouldn't use the `seed` function in real science code, but we use it here for example purposes.\n",
    "# It makes the \"random\" number generator always give the same numbers wherever you run it.\n",
    "np.random.seed(12345)\n",
    "\n",
    "# Set up matplotlib\n",
    "%matplotlib inline"
   ]
  },
  {
   "cell_type": "code",
   "execution_count": 2,
   "id": "e8aac880",
   "metadata": {},
   "outputs": [],
   "source": [
    "import numpy as np\n",
    "import matplotlib.pyplot as plt"
   ]
  },
  {
   "cell_type": "code",
   "execution_count": 3,
   "id": "de9ed317",
   "metadata": {},
   "outputs": [],
   "source": [
    "from astropy.visualization import quantity_support"
   ]
  },
  {
   "cell_type": "code",
   "execution_count": 4,
   "id": "a0131273",
   "metadata": {},
   "outputs": [],
   "source": [
    "import astropy.units as u"
   ]
  },
  {
   "cell_type": "code",
   "execution_count": 5,
   "id": "a5f88666",
   "metadata": {},
   "outputs": [],
   "source": [
    "from astropy.constants import G, h, k_B, hbar"
   ]
  },
  {
   "cell_type": "code",
   "execution_count": 23,
   "id": "69af5dc7",
   "metadata": {},
   "outputs": [],
   "source": [
    "Reff = 29 * u.pc"
   ]
  },
  {
   "cell_type": "code",
   "execution_count": 25,
   "id": "470b4045",
   "metadata": {},
   "outputs": [],
   "source": [
    "Reff = u.Quantity(29, unit=u.pc)"
   ]
  },
  {
   "cell_type": "code",
   "execution_count": 31,
   "id": "a7dea28a",
   "metadata": {},
   "outputs": [
    {
     "name": "stdout",
     "output_type": "stream",
     "text": [
      "Half light radius\n",
      "value: 29.0\n",
      "unit: pc\n"
     ]
    }
   ],
   "source": [
    "print(\n",
    "    \"\"\"Half light radius\n",
    "value: {0}\n",
    "unit: {1}\"\"\".format(Reff.value, Reff.unit)\n",
    ")"
   ]
  },
  {
   "cell_type": "code",
   "execution_count": 32,
   "id": "08a09735",
   "metadata": {},
   "outputs": [
    {
     "data": {
      "text/latex": [
       "$8.948465 \\times 10^{17} \\; \\mathrm{m}$"
      ],
      "text/plain": [
       "<Quantity 8.94846499e+17 m>"
      ]
     },
     "execution_count": 32,
     "metadata": {},
     "output_type": "execute_result"
    }
   ],
   "source": [
    "Reff.to(u.m)"
   ]
  },
  {
   "cell_type": "code",
   "execution_count": 44,
   "id": "f4b4995f",
   "metadata": {},
   "outputs": [],
   "source": [
    "vmean = 206\n",
    "sigin = 4.3\n",
    "v = np.random.normal(vmean, sigin, 500) * u.km / u.s"
   ]
  },
  {
   "cell_type": "code",
   "execution_count": 49,
   "id": "c060eba8",
   "metadata": {},
   "outputs": [
    {
     "name": "stdout",
     "output_type": "stream",
     "text": [
      "First ten radial velocities [202.72409998 204.57404734 198.46934365 208.70424468 207.21475802\n",
      " 200.24600045 203.84739055 206.52307363 213.34579094 201.82470237] km / s [202724.09998258 204574.04733776 198469.34365134 208704.24467632\n",
      " 207214.75801576 200246.00045101 203847.39054659 206523.07362854\n",
      " 213345.79093736 201824.70237222] m / s\n"
     ]
    }
   ],
   "source": [
    "print(\"First ten radial velocities {0} {1}\".format(v[:10], v.to(u.m / u.s)[:10]))"
   ]
  },
  {
   "cell_type": "code",
   "execution_count": 52,
   "id": "c1997234",
   "metadata": {},
   "outputs": [
    {
     "data": {
      "text/plain": [
       "<astropy.visualization.units.quantity_support.<locals>.MplQuantityConverter at 0x1a66c563230>"
      ]
     },
     "execution_count": 52,
     "metadata": {},
     "output_type": "execute_result"
    }
   ],
   "source": [
    "quantity_support()"
   ]
  },
  {
   "cell_type": "code",
   "execution_count": 67,
   "id": "3bbba16b",
   "metadata": {},
   "outputs": [
    {
     "data": {
      "text/plain": [
       "Text(0, 0.5, 'N')"
      ]
     },
     "execution_count": 67,
     "metadata": {},
     "output_type": "execute_result"
    },
    {
     "data": {
      "image/png": "[encoded data removed]",
      "text/plain": [
       "<Figure size 640x480 with 1 Axes>"
      ]
     },
     "metadata": {},
     "output_type": "display_data"
    }
   ],
   "source": [
    "plt.figure()\n",
    "plt.hist(v, bins='auto', histtype='step')\n",
    "plt.ylabel(\"N\")"
   ]
  },
  {
   "cell_type": "code",
   "execution_count": 79,
   "id": "106b7757",
   "metadata": {},
   "outputs": [
    {
     "name": "stdout",
     "output_type": "stream",
     "text": [
      "Velocity Dispersion:  4.05 km / s\n"
     ]
    }
   ],
   "source": [
    "sigma = np.sqrt(np.sum((v - np.mean(v))**2) / np.size(v))\n",
    "\n",
    "print(\"Velocity Dispersion: {0: .2f}\".format(sigma))"
   ]
  },
  {
   "cell_type": "code",
   "execution_count": 81,
   "id": "de7187db",
   "metadata": {},
   "outputs": [],
   "source": [
    "M = 4 * sigma**2 * Reff / G"
   ]
  },
  {
   "cell_type": "code",
   "execution_count": 82,
   "id": "50586b2f",
   "metadata": {},
   "outputs": [
    {
     "data": {
      "text/latex": [
       "$2.8571348 \\times 10^{13} \\; \\mathrm{\\frac{km^{2}\\,kg\\,pc}{m^{3}}}$"
      ],
      "text/plain": [
       "<Quantity 2.85713477e+13 km2 kg pc / m3>"
      ]
     },
     "execution_count": 82,
     "metadata": {},
     "output_type": "execute_result"
    }
   ],
   "source": [
    "M"
   ]
  },
  {
   "cell_type": "code",
   "execution_count": 85,
   "id": "84328154",
   "metadata": {},
   "outputs": [
    {
     "data": {
      "text/latex": [
       "$8.8161967 \\times 10^{35} \\; \\mathrm{kg}$"
      ],
      "text/plain": [
       "<Quantity 8.81619671e+35 kg>"
      ]
     },
     "execution_count": 85,
     "metadata": {},
     "output_type": "execute_result"
    }
   ],
   "source": [
    "M.decompose()"
   ]
  },
  {
   "cell_type": "code",
   "execution_count": 86,
   "id": "5be3df36",
   "metadata": {},
   "outputs": [
    {
     "name": "stdout",
     "output_type": "stream",
     "text": [
      "Galaxy Mass in solar units: 4.43e+05 solMass SI units:8.82e+35 kg CGS units: 8.82e+38 g\n"
     ]
    }
   ],
   "source": [
    "print(\"Galaxy Mass in solar units:{0: .3g} SI units:{1:.3g} CGS units:{2: .3g}\".format(M.to(u.Msun), M.si, M.cgs))"
   ]
  },
  {
   "cell_type": "code",
   "execution_count": 87,
   "id": "ed5d5c6a",
   "metadata": {},
   "outputs": [
    {
     "data": {
      "text/plain": [
       "np.float64(5.64677536136972)"
      ]
     },
     "execution_count": 87,
     "metadata": {},
     "output_type": "execute_result"
    }
   ],
   "source": [
    "np.log10(M.to_value(u.Msun))"
   ]
  },
  {
   "cell_type": "code",
   "execution_count": 88,
   "id": "57b4c360",
   "metadata": {},
   "outputs": [],
   "source": [
    "from astropy import constants as const"
   ]
  },
  {
   "cell_type": "code",
   "execution_count": 89,
   "id": "25a7c403",
   "metadata": {},
   "outputs": [],
   "source": [
    "r = const.au"
   ]
  },
  {
   "cell_type": "code",
   "execution_count": 91,
   "id": "791555c9",
   "metadata": {},
   "outputs": [
    {
     "name": "stdout",
     "output_type": "stream",
     "text": [
      "Orbital speed from kepler's law: 29.785 km / s\n"
     ]
    }
   ],
   "source": [
    "GM_sun = const.G * const.M_sun\n",
    "v_kepler = (GM_sun / r )**0.5\n",
    "v_kepler = v_kepler.to(u.km/u.s)\n",
    "\n",
    "print(f\"Orbital speed from kepler's law:{v_kepler : .3f}\")"
   ]
  },
  {
   "cell_type": "code",
   "execution_count": 92,
   "id": "d4f319c7",
   "metadata": {},
   "outputs": [
    {
     "name": "stdout",
     "output_type": "stream",
     "text": [
      "Orbital speed from circumference / period :  29.785 km / s\n",
      "Percentage difference: -1.889e-03\n"
     ]
    }
   ],
   "source": [
    "T = 1 * u.year\n",
    "circumference = 2 * np.pi * r \n",
    "v_simple = (circumference / T).to(u.km / u.s)\n",
    "print(f\"Orbital speed from circumference / period : {v_simple : .3f}\")\n",
    "\n",
    "percent_diff = ((v_kepler - v_simple) / v_simple * 100).decompose()\n",
    "\n",
    "print(f\"Percentage difference: {percent_diff: .3e}\")"
   ]
  },
  {
   "cell_type": "markdown",
   "id": "9be74c53",
   "metadata": {},
   "source": [
    "# Molecular Gas Cloud"
   ]
  },
  {
   "cell_type": "code",
   "execution_count": 6,
   "id": "86a56021",
   "metadata": {},
   "outputs": [],
   "source": [
    "d = 250 * u.pc\n",
    "T = 25 * u.K"
   ]
  },
  {
   "cell_type": "code",
   "execution_count": 7,
   "id": "4e79775d",
   "metadata": {},
   "outputs": [],
   "source": [
    "# Cloud centre\n",
    "\n",
    "cen_ra = 52.25 * u.deg \n",
    "cen_dec = 0.25 * u.deg\n",
    "cen_v = 15 * u.km/u.s"
   ]
  },
  {
   "cell_type": "code",
   "execution_count": 11,
   "id": "969b69b9",
   "metadata": {},
   "outputs": [],
   "source": [
    "#cloud size\n",
    "\n",
    "sig_ra = 3 * u.arcmin \n",
    "sig_dec = 4 * u.arcmin \n",
    "sig_v = 3 * u.km/u.s "
   ]
  },
  {
   "cell_type": "code",
   "execution_count": 13,
   "id": "6defdc3b",
   "metadata": {},
   "outputs": [],
   "source": [
    "# 1D Coordinate quantities\n",
    "\n",
    "ra = np.linspace(52, 52.5, 100) * u.deg \n",
    "dec = np.linspace(0, 0.5, 100) * u.deg \n",
    "v = np.linspace(0,30,100) * u.km/u.s \n",
    "\n",
    "ra_cube, dec_cube, v_cube = np.meshgrid(ra, dec, v)\n",
    "\n",
    "data_gauss = np.exp(\n",
    "    \n",
    "    -0.5 * ((ra_cube - cen_ra)/sig_ra)**2\n",
    "    + -0.5 * ((dec_cube - cen_dec)/sig_dec)**2\n",
    "    + -0.5 * ((v_cube - cen_v)/sig_v)**2 \n",
    "    \n",
    ")"
   ]
  },
  {
   "cell_type": "code",
   "execution_count": 18,
   "id": "06d0a010",
   "metadata": {},
   "outputs": [],
   "source": [
    "data = data_gauss * u.K"
   ]
  },
  {
   "cell_type": "code",
   "execution_count": 21,
   "id": "9587691a",
   "metadata": {},
   "outputs": [
    {
     "name": "stdout",
     "output_type": "stream",
     "text": [
      "dra = 18.0 arcsec ddec = 18.0 arcsec dv = 0.3 km / s \n"
     ]
    }
   ],
   "source": [
    "dra = (ra.max() - ra.min()) / len(ra)\n",
    "ddec = (dec.max() - dec.min()) / len(dec)\n",
    "\n",
    "dv = (v.max() - v.min()) /len(v)\n",
    "\n",
    "print(\"dra = {0} ddec = {1} dv = {2} \".format(dra.to(u.arcsec), ddec.to(u.arcsec), dv)\n",
    "      \n",
    "      )"
   ]
  },
  {
   "cell_type": "code",
   "execution_count": 22,
   "id": "a2b8234e",
   "metadata": {},
   "outputs": [
    {
     "data": {
      "text/latex": [
       "$\\mathrm{\\frac{K\\,km}{s}}$"
      ],
      "text/plain": [
       "Unit(\"K km / s\")"
      ]
     },
     "execution_count": 22,
     "metadata": {},
     "output_type": "execute_result"
    }
   ],
   "source": [
    "intcloud = np.sum(data * dv, axis = 2)\n",
    "intcloud.unit"
   ]
  },
  {
   "cell_type": "code",
   "execution_count": 27,
   "id": "f291a7a7",
   "metadata": {},
   "outputs": [
    {
     "data": {
      "image/png": "[encoded data removed]",
      "text/plain": [
       "<Figure size 640x480 with 2 Axes>"
      ]
     },
     "metadata": {},
     "output_type": "display_data"
    }
   ],
   "source": [
    "plt.imshow(\n",
    "    \n",
    "    intcloud.value, origin = 'lower',\n",
    "    extent=[ra.value.max(), ra.value.min(), dec.value.min(), dec.value.max()],\n",
    "    cmap=\"hot\",\n",
    "    interpolation='nearest',\n",
    "    aspect='equal' \n",
    "       \n",
    "        \n",
    ")\n",
    "\n",
    "plt.colorbar().set_label(\"Intensity({})\".format(intcloud.unit))\n",
    "plt.xlabel(\"RA(deg)\")\n",
    "plt.ylabel(\"Dec(degree)\");"
   ]
  },
  {
   "cell_type": "code",
   "execution_count": 30,
   "id": "43e46ebb",
   "metadata": {},
   "outputs": [],
   "source": [
    "lambda13 = 2.60076 * u.mm\n",
    "lambda18 = 2.73079 * u.mm \n"
   ]
  },
  {
   "cell_type": "code",
   "execution_count": 32,
   "id": "a1c30759",
   "metadata": {},
   "outputs": [],
   "source": [
    "nu13 = lambda13.to(u.Hz, equivalencies=u.spectral())\n",
    "nu18 = lambda18.to(u.Hz, equivalencies=u.spectral())"
   ]
  },
  {
   "cell_type": "code",
   "execution_count": 33,
   "id": "995e8af0",
   "metadata": {},
   "outputs": [
    {
     "data": {
      "text/latex": [
       "$2.1792458 \\times 10^{14} \\; \\mathrm{\\frac{s}{K\\,km\\,cm^{2}}}$"
      ],
      "text/plain": [
       "<Quantity 2.17924582e+14 s / (K km cm2)>"
      ]
     },
     "execution_count": 33,
     "metadata": {},
     "output_type": "execute_result"
    }
   ],
   "source": [
    "nu13 = 115271096910.13396 * u.Hz\n",
    "nu18 = 109782318669.689 * u.Hz\n",
    "A13 = 7.4e-8 / u.s\n",
    "A18 = 8.8e-8 / u.s\n",
    "\n",
    "C = 3e14 * (nu18 / nu13) ** 3 * (A13 / A18) / (u.K * u.cm**2 * u.km * (1 / u.s))\n",
    "C"
   ]
  },
  {
   "cell_type": "code",
   "execution_count": 35,
   "id": "fb78c162",
   "metadata": {},
   "outputs": [],
   "source": [
    "B = h * nu18 / (k_B * T)"
   ]
  },
  {
   "cell_type": "code",
   "execution_count": 36,
   "id": "38a19a1b",
   "metadata": {},
   "outputs": [
    {
     "name": "stdout",
     "output_type": "stream",
     "text": [
      "0.21074881298143522 Hz s\n",
      "0.21074881298143522\n"
     ]
    }
   ],
   "source": [
    "print(\"{0}\\n{1}\".format(B, B.decompose()))"
   ]
  },
  {
   "cell_type": "code",
   "execution_count": 37,
   "id": "e1908ac5",
   "metadata": {},
   "outputs": [
    {
     "name": "stdout",
     "output_type": "stream",
     "text": [
      "Peak CO column density: \n"
     ]
    },
    {
     "data": {
      "text/latex": [
       "$8.5208305 \\times 10^{15} \\; \\mathrm{\\frac{1}{cm^{2}}}$"
      ],
      "text/plain": [
       "<Quantity 8.52083054e+15 1 / cm2>"
      ]
     },
     "execution_count": 37,
     "metadata": {},
     "output_type": "execute_result"
    }
   ],
   "source": [
    "NCO = C * np.sum(data * dv, axis=2) / (1 - np.exp(-B))\n",
    "print(\"Peak CO column density: \")\n",
    "np.max(NCO)"
   ]
  },
  {
   "cell_type": "code",
   "execution_count": 38,
   "id": "ac839c8a",
   "metadata": {},
   "outputs": [
    {
     "name": "stdout",
     "output_type": "stream",
     "text": [
      "Peak H2 column density: \n"
     ]
    },
    {
     "data": {
      "text/latex": [
       "$5.02729 \\times 10^{22} \\; \\mathrm{\\frac{1}{cm^{2}}}$"
      ],
      "text/plain": [
       "<Quantity 5.02729002e+22 1 / cm2>"
      ]
     },
     "execution_count": 38,
     "metadata": {},
     "output_type": "execute_result"
    }
   ],
   "source": [
    "H2_CO_ratio = 5.9e6\n",
    "NH2 = NCO * H2_CO_ratio\n",
    "print(\"Peak H2 column density: \")\n",
    "np.max(NH2)"
   ]
  },
  {
   "cell_type": "code",
   "execution_count": null,
   "id": "221b61f3",
   "metadata": {},
   "outputs": [],
   "source": []
  }
 ],
 "metadata": {
  "kernelspec": {
   "display_name": "astropy_env",
   "language": "python",
   "name": "python3"
  },
  "language_info": {
   "codemirror_mode": {
    "name": "ipython",
    "version": 3
   },
   "file_extension": ".py",
   "mimetype": "text/x-python",
   "name": "python",
   "nbconvert_exporter": "python",
   "pygments_lexer": "ipython3",
   "version": "3.13.5"
  }
 },
 "nbformat": 4,
 "nbformat_minor": 5
}
